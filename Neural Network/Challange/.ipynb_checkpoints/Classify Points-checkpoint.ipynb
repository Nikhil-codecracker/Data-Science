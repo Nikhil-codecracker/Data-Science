{
 "cells": [
  {
   "cell_type": "code",
   "execution_count": 1,
   "metadata": {},
   "outputs": [],
   "source": [
    "import numpy as np\n",
    "import pandas as pd\n",
    "import matplotlib.pyplot as plt"
   ]
  },
  {
   "cell_type": "code",
   "execution_count": 2,
   "metadata": {},
   "outputs": [],
   "source": [
    "X_train = pd.read_csv('Logistic_X_train.csv',header='infer')\n",
    "Y_train = pd.read_csv('Logistic_Y_train.csv',header='infer')\n",
    "X_test = pd.read_csv('Logistic_X_test.csv',header='infer')"
   ]
  },
  {
   "cell_type": "code",
   "execution_count": 3,
   "metadata": {},
   "outputs": [
    {
     "name": "stdout",
     "output_type": "stream",
     "text": [
      "(2250, 2) (2250,)\n"
     ]
    }
   ],
   "source": [
    "X_train = X_train.values\n",
    "Y_train = Y_train.values.reshape((-1,))\n",
    "X_test = X_test.values\n",
    "print(X_train.shape,Y_train.shape)"
   ]
  },
  {
   "cell_type": "code",
   "execution_count": null,
   "metadata": {},
   "outputs": [],
   "source": []
  },
  {
   "cell_type": "code",
   "execution_count": 4,
   "metadata": {},
   "outputs": [],
   "source": [
    "def softmax(a):\n",
    "    e_pa = np.exp(a)\n",
    "    ans = e_pa/np.sum(e_pa,axis=1,keepdims=True)\n",
    "    return ans"
   ]
  },
  {
   "cell_type": "code",
   "execution_count": 5,
   "metadata": {},
   "outputs": [],
   "source": [
    "class NeuralNetwork:\n",
    "    \n",
    "    def __init__(self,input_size,layers,output_size):\n",
    "        \n",
    "        np.random.seed(0)\n",
    "        \n",
    "        model= {}\n",
    "        \n",
    "        model['W1'] = np.random.randn(input_size,layers[0])\n",
    "        model['b1'] = np.zeros((1,layers[0]))\n",
    "        \n",
    "        model['W2'] = np.random.randn(layers[0],layers[1])\n",
    "        model['b2'] = np.zeros((1,layers[1]))\n",
    "        \n",
    "        model['W3'] = np.random.randn(layers[1],output_size)\n",
    "        model['b3'] = np.zeros((1,output_size))\n",
    "        \n",
    "        self.model = model\n",
    "        self.activation_output = None\n",
    "        \n",
    "    def forward(self,x):\n",
    "        W1,W2,W3 = self.model['W1'],self.model['W2'],self.model['W3']\n",
    "        b1,b2,b3 = self.model['b1'],self.model['b2'],self.model['b3']\n",
    "        \n",
    "        z1 = np.dot(x,W1)+b1\n",
    "        a1 = np.tanh(z1)\n",
    "        \n",
    "        z2 = np.dot(a1,W2)+b2\n",
    "        a2 = np.tanh(z2)\n",
    "        \n",
    "        z3 = np.dot(a2,W3)+b3\n",
    "        y_ = softmax(z3)\n",
    "        \n",
    "        self.activation_output = (a1,a2,y_)\n",
    "        return y_\n",
    "    def backward(self,x,y,learning_rate):\n",
    "        W1,W2,W3 = self.model['W1'],self.model['W2'],self.model['W3']\n",
    "        b1,b2,b3 = self.model['b1'],self.model['b2'],self.model['b3']\n",
    "        a1,a2,y_ = self.activation_output\n",
    "        \n",
    "        delta3 = y_-y\n",
    "        dw3 = np.dot(a2.T,delta3)\n",
    "        db3 = np.sum(delta3,axis=0)\n",
    "        \n",
    "        delta2 = (1-np.square(a2))*np.dot(delta3,W3.T)\n",
    "        dw2 = np.dot(a1.T,delta2)\n",
    "        db2 = np.sum(delta2,axis=0)\n",
    "        \n",
    "        delta1 = (1-np.square(a1))*np.dot(delta2,W2.T)\n",
    "        dw1 = np.dot(x.T,delta1)\n",
    "        db1 = np.sum(delta1,axis=0)\n",
    "        \n",
    "        self.model['W1'] -= learning_rate*dw1\n",
    "        self.model['b1'] -= learning_rate*db1\n",
    "        \n",
    "        self.model['W2'] -= learning_rate*dw2\n",
    "        self.model['b2'] -= learning_rate*db2\n",
    "        \n",
    "        self.model['W3'] -= learning_rate*dw3\n",
    "        self.model['b3'] -= learning_rate*db3\n",
    "        \n",
    "    def predict(self,x):\n",
    "        y_ = self.forward(x)\n",
    "        return np.argmax(y_,axis=1)\n",
    "    \n",
    "    def summary(self):\n",
    "        W1,W2,W3 = self.model['W1'],self.model['W2'],self.model['W3']\n",
    "        a1,a2,y_ = self.activation_outputs\n",
    "        \n",
    "        print(\"W1\",W1.shape)\n",
    "        print(\"A1\",a1.shape)\n",
    "        \n",
    "        print(\"W2\",W2.shape)\n",
    "        print(\"A2\",a2.shape)\n",
    "        \n",
    "        print(\"W3\",W3.shape)\n",
    "        print(\"Y_\",y_.shape)"
   ]
  },
  {
   "cell_type": "code",
   "execution_count": 22,
   "metadata": {},
   "outputs": [],
   "source": [
    "def loss(y_hot,p):\n",
    "    return -np.mean(y_hot*np.log(p))\n",
    "\n",
    "def one_hot(y,depth):\n",
    "    \n",
    "    m = y.shape[0]\n",
    "    y_hot = np.zeros((m,depth))\n",
    "    y_hot[np.arange(m),y] = 1\n",
    "    \n",
    "    return y_hot"
   ]
  },
  {
   "cell_type": "code",
   "execution_count": 77,
   "metadata": {},
   "outputs": [],
   "source": [
    "model = NeuralNetwork(input_size=X_train.shape[1],layers=[10,5],output_size=2)"
   ]
  },
  {
   "cell_type": "code",
   "execution_count": 78,
   "metadata": {},
   "outputs": [],
   "source": [
    "def train(x,y,model,learning_rate=0.001,maxItr=500,logs=True):\n",
    "    \n",
    "    training_loss = []\n",
    "    \n",
    "    classes=2\n",
    "    y_hot = one_hot(y,classes)\n",
    "    \n",
    "    for i in range(maxItr):\n",
    "        \n",
    "        Y_ = model.forward(x)\n",
    "        l = loss(y_hot,Y_)\n",
    "        training_loss.append(l)\n",
    "        model.backward(x,y_hot,learning_rate)\n",
    "        \n",
    "        if(logs and i%20==0):\n",
    "            print(\"Epoch %d Loss %.4f\"%(i,l))\n",
    "        \n",
    "    return training_loss"
   ]
  },
  {
   "cell_type": "code",
   "execution_count": 79,
   "metadata": {},
   "outputs": [
    {
     "name": "stdout",
     "output_type": "stream",
     "text": [
      "Epoch 0 Loss 0.3980\n",
      "Epoch 20 Loss 0.1540\n",
      "Epoch 40 Loss 0.1075\n",
      "Epoch 60 Loss 0.0617\n",
      "Epoch 80 Loss 0.0666\n",
      "Epoch 100 Loss 0.0980\n",
      "Epoch 120 Loss 0.0499\n",
      "Epoch 140 Loss 0.0550\n",
      "Epoch 160 Loss 0.0525\n",
      "Epoch 180 Loss 0.0514\n",
      "Epoch 200 Loss 0.0520\n",
      "Epoch 220 Loss 0.0507\n",
      "Epoch 240 Loss 0.0490\n",
      "Epoch 260 Loss 0.0513\n",
      "Epoch 280 Loss 0.0467\n",
      "Epoch 300 Loss 0.0475\n",
      "Epoch 320 Loss 0.0549\n",
      "Epoch 340 Loss 0.0444\n",
      "Epoch 360 Loss 0.0447\n",
      "Epoch 380 Loss 0.0496\n",
      "Epoch 400 Loss 0.0472\n",
      "Epoch 420 Loss 0.0446\n",
      "Epoch 440 Loss 0.0469\n",
      "Epoch 460 Loss 0.0466\n",
      "Epoch 480 Loss 0.0458\n",
      "Epoch 500 Loss 0.0463\n",
      "Epoch 520 Loss 0.0460\n",
      "Epoch 540 Loss 0.0457\n",
      "Epoch 560 Loss 0.0457\n",
      "Epoch 580 Loss 0.0456\n",
      "Epoch 600 Loss 0.0454\n",
      "Epoch 620 Loss 0.0453\n",
      "Epoch 640 Loss 0.0452\n",
      "Epoch 660 Loss 0.0451\n",
      "Epoch 680 Loss 0.0450\n",
      "Epoch 700 Loss 0.0449\n",
      "Epoch 720 Loss 0.0448\n",
      "Epoch 740 Loss 0.0446\n",
      "Epoch 760 Loss 0.0445\n",
      "Epoch 780 Loss 0.0444\n",
      "Epoch 800 Loss 0.0443\n",
      "Epoch 820 Loss 0.0442\n",
      "Epoch 840 Loss 0.0441\n",
      "Epoch 860 Loss 0.0441\n",
      "Epoch 880 Loss 0.0440\n",
      "Epoch 900 Loss 0.0439\n",
      "Epoch 920 Loss 0.0438\n",
      "Epoch 940 Loss 0.0437\n",
      "Epoch 960 Loss 0.0437\n",
      "Epoch 980 Loss 0.0436\n",
      "Epoch 1000 Loss 0.0435\n",
      "Epoch 1020 Loss 0.0435\n",
      "Epoch 1040 Loss 0.0434\n",
      "Epoch 1060 Loss 0.0434\n",
      "Epoch 1080 Loss 0.0433\n",
      "Epoch 1100 Loss 0.0433\n",
      "Epoch 1120 Loss 0.0432\n",
      "Epoch 1140 Loss 0.0432\n",
      "Epoch 1160 Loss 0.0432\n",
      "Epoch 1180 Loss 0.0431\n",
      "Epoch 1200 Loss 0.0431\n",
      "Epoch 1220 Loss 0.0430\n",
      "Epoch 1240 Loss 0.0430\n",
      "Epoch 1260 Loss 0.0430\n",
      "Epoch 1280 Loss 0.0429\n",
      "Epoch 1300 Loss 0.0429\n",
      "Epoch 1320 Loss 0.0429\n",
      "Epoch 1340 Loss 0.0428\n",
      "Epoch 1360 Loss 0.0428\n",
      "Epoch 1380 Loss 0.0428\n",
      "Epoch 1400 Loss 0.0428\n",
      "Epoch 1420 Loss 0.0427\n",
      "Epoch 1440 Loss 0.0427\n",
      "Epoch 1460 Loss 0.0427\n",
      "Epoch 1480 Loss 0.0427\n",
      "Epoch 1500 Loss 0.0426\n",
      "Epoch 1520 Loss 0.0426\n",
      "Epoch 1540 Loss 0.0426\n",
      "Epoch 1560 Loss 0.0426\n",
      "Epoch 1580 Loss 0.0425\n",
      "Epoch 1600 Loss 0.0425\n",
      "Epoch 1620 Loss 0.0425\n",
      "Epoch 1640 Loss 0.0425\n",
      "Epoch 1660 Loss 0.0424\n",
      "Epoch 1680 Loss 0.0424\n",
      "Epoch 1700 Loss 0.0424\n",
      "Epoch 1720 Loss 0.0424\n",
      "Epoch 1740 Loss 0.0424\n",
      "Epoch 1760 Loss 0.0423\n",
      "Epoch 1780 Loss 0.0423\n",
      "Epoch 1800 Loss 0.0423\n",
      "Epoch 1820 Loss 0.0423\n",
      "Epoch 1840 Loss 0.0422\n",
      "Epoch 1860 Loss 0.0422\n",
      "Epoch 1880 Loss 0.0422\n",
      "Epoch 1900 Loss 0.0422\n",
      "Epoch 1920 Loss 0.0421\n",
      "Epoch 1940 Loss 0.0421\n",
      "Epoch 1960 Loss 0.0421\n",
      "Epoch 1980 Loss 0.0421\n"
     ]
    }
   ],
   "source": [
    "losses = train(X_train,Y_train,model,0.002,2000)"
   ]
  },
  {
   "cell_type": "code",
   "execution_count": 80,
   "metadata": {},
   "outputs": [
    {
     "data": {
      "text/plain": [
       "[<matplotlib.lines.Line2D at 0x127352c5320>]"
      ]
     },
     "execution_count": 80,
     "metadata": {},
     "output_type": "execute_result"
    },
    {
     "data": {
      "image/png": "[encoded data removed]",
      "text/plain": [
       "<Figure size 432x288 with 1 Axes>"
      ]
     },
     "metadata": {
      "needs_background": "light"
     },
     "output_type": "display_data"
    }
   ],
   "source": [
    "plt.plot(losses)"
   ]
  },
  {
   "cell_type": "code",
   "execution_count": 81,
   "metadata": {},
   "outputs": [
    {
     "name": "stdout",
     "output_type": "stream",
     "text": [
      "(2250,)\n"
     ]
    }
   ],
   "source": [
    "output = model.predict(X_train)\n",
    "print(output.shape)"
   ]
  },
  {
   "cell_type": "code",
   "execution_count": 82,
   "metadata": {},
   "outputs": [
    {
     "name": "stdout",
     "output_type": "stream",
     "text": [
      "0.9666666666666667\n"
     ]
    }
   ],
   "source": [
    "accuracy = np.sum(output==Y_train)/Y_train.shape[0]\n",
    "print(accuracy)"
   ]
  },
  {
   "cell_type": "code",
   "execution_count": 83,
   "metadata": {},
   "outputs": [],
   "source": [
    "pred = model.predict(X_test)"
   ]
  },
  {
   "cell_type": "code",
   "execution_count": 87,
   "metadata": {},
   "outputs": [],
   "source": [
    "dt = pd.DataFrame(pred,columns=['label'])"
   ]
  },
  {
   "cell_type": "code",
   "execution_count": null,
   "metadata": {
    "collapsed": true
   },
   "outputs": [],
   "source": []
  },
  {
   "cell_type": "code",
   "execution_count": null,
   "metadata": {},
   "outputs": [],
   "source": []
  }
 ],
 "metadata": {
  "kernelspec": {
   "display_name": "Python 3",
   "language": "python",
   "name": "python3"
  },
  "language_info": {
   "codemirror_mode": {
    "name": "ipython",
    "version": 3
   },
   "file_extension": ".py",
   "mimetype": "text/x-python",
   "name": "python",
   "nbconvert_exporter": "python",
   "pygments_lexer": "ipython3",
   "version": "3.7.3"
  }
 },
 "nbformat": 4,
 "nbformat_minor": 2
}
