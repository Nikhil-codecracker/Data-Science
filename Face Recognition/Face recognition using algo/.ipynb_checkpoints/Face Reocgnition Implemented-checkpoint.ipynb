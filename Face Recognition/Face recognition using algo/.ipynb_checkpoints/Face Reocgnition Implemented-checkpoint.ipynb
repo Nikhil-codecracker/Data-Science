{
 "cells": [
  {
   "cell_type": "code",
   "execution_count": 1,
   "metadata": {},
   "outputs": [],
   "source": [
    "# Recognise Faces using some classification algorithm-like logistic,KNN,etc\n",
    "\n",
    "# 1.Read a video stream using opencv\n",
    "# 2.extract faces out of it\n",
    "# 3. load the training data (numpy array of all the persons)\n",
    "    # x- values are stored in the numy array\n",
    "    # y -values we need to assign for each person\n",
    "# 4. use knn to find the prediction of face (int)\n",
    "# 5. map the predicted id to name of the user\n",
    "# 6. Display the predictions on the screen - bounding boc and name"
   ]
  },
  {
   "cell_type": "code",
   "execution_count": 2,
   "metadata": {},
   "outputs": [],
   "source": [
    "import cv2\n",
    "import numpy as np\n",
    "import os"
   ]
  },
  {
   "cell_type": "code",
   "execution_count": null,
   "metadata": {},
   "outputs": [],
   "source": [
    "cap = cv2.VideoCapture(0)\n",
    "\n",
    "skip = 0\n",
    "face_data = []\n",
    "\n",
    "face_cascade = cv2.CascadeClassifier(\"haarcascade_frontalface_alt.xml\")\n",
    "\n",
    "while True:\n",
    "    ret,frame = cap.read()\n",
    "    \n",
    "    if ret==False:\n",
    "        continue\n",
    "    \n",
    "    faces = face_cascade.detectMultiScale(frame,1.3,5)\n",
    "    faces = sorted(faces, key=lambda f:f[2]*f[3])\n",
    "    \n",
    "    for face in faces[-1:]:\n",
    "        (x,y,w,h) = face\n",
    "        cv2.rectangle(frame,(x,y),(x+w,y+h),(0,255,255),2)\n",
    "        \n",
    "        offset = 10\n",
    "        face_section = frame[y-offset:y+h+offset,x-offset:x+w+offset]\n",
    "        face_section = cv2.resize(frace_section,frame.shape[0],-1)\n",
    "        \n",
    "        skip+=1;\n",
    "        if skip%10==0:\n",
    "            face_data.append(face_section)\n",
    "    \n",
    "    cv2.imshow(\"Video\",frame)\n",
    "    cv2.imshow(\"Face Detection\",face_section)\n",
    "    \n",
    "    key_required = waitKey(0) & 0xFF\n",
    "    if key_required == ord(q):\n",
    "        break\n",
    "cap.release()\n",
    "cv2.distroyAllWindows()"
   ]
  }
 ],
 "metadata": {
  "kernelspec": {
   "display_name": "Python 3",
   "language": "python",
   "name": "python3"
  },
  "language_info": {
   "codemirror_mode": {
    "name": "ipython",
    "version": 3
   },
   "file_extension": ".py",
   "mimetype": "text/x-python",
   "name": "python",
   "nbconvert_exporter": "python",
   "pygments_lexer": "ipython3",
   "version": "3.7.3"
  }
 },
 "nbformat": 4,
 "nbformat_minor": 2
}
