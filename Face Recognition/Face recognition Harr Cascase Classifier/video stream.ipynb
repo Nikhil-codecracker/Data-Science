{
 "cells": [
  {
   "cell_type": "code",
   "execution_count": 1,
   "metadata": {},
   "outputs": [],
   "source": [
    "import cv2"
   ]
  },
  {
   "cell_type": "code",
   "execution_count": null,
   "metadata": {},
   "outputs": [],
   "source": [
    "cap = cv2.VideoCapture(0) #it tell which web cam to use 0 is for default\n",
    "                 #if there are more we can select them by changing values\n",
    "while True:\n",
    "    ret,frame = cap.read()\n",
    "    gray_frame = cv2.cvtColor(frame,cv2.COLOR_BGR2GRAY)\n",
    "    \n",
    "    if ret==False: #this happens if webcam is not functioning properly\n",
    "        continue\n",
    "        \n",
    "    cv2.imshow(\"Video Frame\",frame)\n",
    "    cv2.imshow(\"Video Frame 2\",gray_frame)\n",
    "    \n",
    "    key_pressed = cv2.waitKey(1) &0xFF #here we are extracting the last 8 bits from the value returned by waitKey()\n",
    "    if(key_pressed==ord('q')):\n",
    "        break\n",
    "cap.release()\n",
    "cv2.destroyAllWindows()"
   ]
  },
  {
   "cell_type": "code",
   "execution_count": null,
   "metadata": {},
   "outputs": [],
   "source": []
  }
 ],
 "metadata": {
  "kernelspec": {
   "display_name": "Python 3",
   "language": "python",
   "name": "python3"
  },
  "language_info": {
   "codemirror_mode": {
    "name": "ipython",
    "version": 3
   },
   "file_extension": ".py",
   "mimetype": "text/x-python",
   "name": "python",
   "nbconvert_exporter": "python",
   "pygments_lexer": "ipython3",
   "version": "3.7.3"
  }
 },
 "nbformat": 4,
 "nbformat_minor": 2
}
