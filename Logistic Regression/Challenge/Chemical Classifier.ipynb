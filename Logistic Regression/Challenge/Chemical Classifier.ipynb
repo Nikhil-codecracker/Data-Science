{
 "cells": [
  {
   "cell_type": "code",
   "execution_count": 1,
   "metadata": {},
   "outputs": [],
   "source": [
    "import numpy as np\n",
    "import pandas as pd\n",
    "import matplotlib.pyplot as plt"
   ]
  },
  {
   "cell_type": "code",
   "execution_count": 2,
   "metadata": {},
   "outputs": [
    {
     "name": "stdout",
     "output_type": "stream",
     "text": [
      "(3000, 3) (3000, 1) (1000, 3)\n"
     ]
    }
   ],
   "source": [
    "X_train = pd.read_csv(\"Logistic_X_Train.csv\").values\n",
    "X_test = pd.read_csv(\"Logistic_X_Test.csv\").values\n",
    "Y_train = pd.read_csv(\"Logistic_Y_train.csv\").values\n",
    "print(X_train.shape,Y_train.shape,X_test.shape)"
   ]
  },
  {
   "cell_type": "code",
   "execution_count": 3,
   "metadata": {},
   "outputs": [],
   "source": [
    "#Normalisation\n",
    "mean = X_train.mean(axis=0)\n",
    "std = X_train.std(axis=0)\n",
    "X_train = (X_train-mean)/std\n",
    "X_test = (X_test-mean)/std"
   ]
  },
  {
   "cell_type": "code",
   "execution_count": 4,
   "metadata": {},
   "outputs": [
    {
     "name": "stdout",
     "output_type": "stream",
     "text": [
      "(3000, 4)\n"
     ]
    }
   ],
   "source": [
    "ones = np.ones((X_train.shape[0],1))\n",
    "X_train = np.hstack((ones,X_train))\n",
    "print(X_train.shape)"
   ]
  },
  {
   "cell_type": "code",
   "execution_count": 5,
   "metadata": {},
   "outputs": [
    {
     "name": "stdout",
     "output_type": "stream",
     "text": [
      "(1000, 4)\n"
     ]
    }
   ],
   "source": [
    "one = np.ones((X_test.shape[0],1))\n",
    "X_test = np.hstack((one,X_test))\n",
    "print(X_test.shape)"
   ]
  },
  {
   "cell_type": "code",
   "execution_count": 6,
   "metadata": {},
   "outputs": [
    {
     "data": {
      "text/plain": [
       "array([1, 1, 1, ..., 1, 0, 1], dtype=int64)"
      ]
     },
     "execution_count": 6,
     "metadata": {},
     "output_type": "execute_result"
    }
   ],
   "source": [
    "Y_train.reshape((-1,))"
   ]
  },
  {
   "cell_type": "code",
   "execution_count": 12,
   "metadata": {},
   "outputs": [],
   "source": [
    "def sigmoid(x):\n",
    "    return 1.0/(1.0+np.exp(-x))\n",
    "\n",
    "def hypothesis(X,theta):\n",
    "    return sigmoid(np.dot(X,theta))\n",
    "\n",
    "def error(X,Y,theta):\n",
    "    h = hypothesis(X,theta)\n",
    "    error = -1*np.mean((Y*np.log(h)+(1-Y)*np.log(1-h)))\n",
    "    return error/X.shape[0]\n",
    "\n",
    "def gradient(X,Y,theta):\n",
    "    h = hypothesis(X,theta)\n",
    "    grad = np.dot(X.T,(Y-h))\n",
    "    return grad/X.shape[0]\n",
    "\n",
    "def gradientDescent(X,Y,lr=0.5,max_itr=500):\n",
    "    theta = np.zeros((X.shape[1],1))\n",
    "    error_list = []\n",
    "    \n",
    "    for i in range(max_itr):\n",
    "        e = error(X,Y,theta)\n",
    "        error_list.append(e)\n",
    "        \n",
    "        grad = gradient(X,Y,theta)\n",
    "        \n",
    "        theta = theta + lr*grad\n",
    "    \n",
    "    return theta,error_list"
   ]
  },
  {
   "cell_type": "code",
   "execution_count": 13,
   "metadata": {},
   "outputs": [
    {
     "name": "stdout",
     "output_type": "stream",
     "text": [
      "[[-0.83262325]\n",
      " [-4.07340528]\n",
      " [ 2.48502446]\n",
      " [-2.85683045]]\n"
     ]
    }
   ],
   "source": [
    "theta,error_list = gradientDescent(X_train,Y_train)\n",
    "print(theta)"
   ]
  },
  {
   "cell_type": "code",
   "execution_count": 14,
   "metadata": {},
   "outputs": [
    {
     "data": {
      "image/png": "[encoded data removed]",
      "text/plain": [
       "<Figure size 432x288 with 1 Axes>"
      ]
     },
     "metadata": {
      "needs_background": "light"
     },
     "output_type": "display_data"
    }
   ],
   "source": [
    "plt.plot(error_list)\n",
    "plt.title(\"Error\")\n",
    "plt.show()"
   ]
  },
  {
   "cell_type": "code",
   "execution_count": 15,
   "metadata": {},
   "outputs": [],
   "source": [
    "def predict(X,theta):\n",
    "    h = hypothesis(X,theta)\n",
    "    output = np.zeros((X.shape[0],1))\n",
    "    output[h>=0.5] = 1\n",
    "    \n",
    "    return output"
   ]
  },
  {
   "cell_type": "code",
   "execution_count": 17,
   "metadata": {},
   "outputs": [],
   "source": [
    "pred_train = predict(X_train,theta)\n",
    "pred_test = predict(X_test,theta)"
   ]
  },
  {
   "cell_type": "code",
   "execution_count": 18,
   "metadata": {},
   "outputs": [],
   "source": [
    "def accurate(actual,prediction):\n",
    "    actual = actual.astype('int')\n",
    "    actual = actual.reshape((-1,1))\n",
    "    \n",
    "    acc = np.sum(actual==prediction)/actual.shape[0]\n",
    "    \n",
    "    return acc"
   ]
  },
  {
   "cell_type": "code",
   "execution_count": 19,
   "metadata": {},
   "outputs": [
    {
     "data": {
      "text/plain": [
       "0.9946666666666667"
      ]
     },
     "execution_count": 19,
     "metadata": {},
     "output_type": "execute_result"
    }
   ],
   "source": [
    "accurate(Y_train,pred_train)"
   ]
  },
  {
   "cell_type": "code",
   "execution_count": 20,
   "metadata": {},
   "outputs": [],
   "source": [
    "df = pd.DataFrame(pred_test,columns=[\"label\"])\n",
    "df.to_csv(\"predict.csv\",index = False)"
   ]
  },
  {
   "cell_type": "code",
   "execution_count": null,
   "metadata": {},
   "outputs": [],
   "source": []
  }
 ],
 "metadata": {
  "kernelspec": {
   "display_name": "Python 3",
   "language": "python",
   "name": "python3"
  },
  "language_info": {
   "codemirror_mode": {
    "name": "ipython",
    "version": 3
   },
   "file_extension": ".py",
   "mimetype": "text/x-python",
   "name": "python",
   "nbconvert_exporter": "python",
   "pygments_lexer": "ipython3",
   "version": "3.7.3"
  }
 },
 "nbformat": 4,
 "nbformat_minor": 2
}
