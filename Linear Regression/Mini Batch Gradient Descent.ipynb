{
 "cells": [
  {
   "cell_type": "code",
   "execution_count": 1,
   "metadata": {},
   "outputs": [],
   "source": [
    "import numpy as np \n",
    "import pandas as pd\n",
    "import matplotlib.pyplot as plt\n",
    "from sklearn.datasets import load_boston\n",
    "from sklearn.datasets import make_regression"
   ]
  },
  {
   "cell_type": "code",
   "execution_count": 2,
   "metadata": {},
   "outputs": [],
   "source": [
    "#Get or Create Datasets\n",
    "x,y = make_regression(n_samples=10000,n_features=20,n_informative=20,noise=10,random_state=1)\n",
    "\n",
    "#Normalisation\n",
    "u = np.mean(x,axis=0)\n",
    "std = np.std(x,axis=0)\n",
    "X = (x-u)/std"
   ]
  },
  {
   "cell_type": "code",
   "execution_count": 3,
   "metadata": {},
   "outputs": [
    {
     "name": "stdout",
     "output_type": "stream",
     "text": [
      "(10000, 21)\n",
      "(10000,)\n"
     ]
    }
   ],
   "source": [
    "# Add a column of its vectorisation\n",
    "\n",
    "ones = np.ones((X.shape[0],1))\n",
    "X = np.hstack((ones,X))\n",
    "print(X.shape)\n",
    "print(y.shape)"
   ]
  },
  {
   "cell_type": "code",
   "execution_count": 4,
   "metadata": {},
   "outputs": [],
   "source": [
    "def hypothesis(X,theta):\n",
    "    return np.dot(X,theta)\n",
    "\n",
    "def error(X,y,theta):\n",
    "    e = 0.0\n",
    "    m = X.shape[0]\n",
    "    y_pred = hypothesis(X,theta)\n",
    "    e = np.sum((y_pred-y)**2)\n",
    "    \n",
    "    return e/m\n",
    "\n",
    "def gradient(X,y,theta):\n",
    "    m = X.shape[0]\n",
    "    y_pred = hypothesis(X,theta)\n",
    "    grad = np.dot(X.T,(y_pred-y))\n",
    "    return grad/m\n",
    "\n",
    "#Batch Dradient Descent\n",
    "def gradientDescent(X,y,learning_rate=0.01,max_itr=300):\n",
    "    theta = np.zeros((X.shape[1],))\n",
    "    error_list = []\n",
    "    \n",
    "    for i in range(max_itr):\n",
    "        e = error(X,y,theta)\n",
    "        error_list.append(e)\n",
    "        \n",
    "        grad = gradient(X,y,theta)\n",
    "        \n",
    "        theta = theta - learning_rate*grad\n",
    "    return theta,error_list"
   ]
  },
  {
   "cell_type": "code",
   "execution_count": 5,
   "metadata": {},
   "outputs": [],
   "source": [
    "#When batch size is 1 it becomes socastic gradient descent\n",
    "def batch_gradient_descent(X,y,batch_size=10,learning_rate=0.01,max_itr=10):\n",
    "    n = X.shape[1]\n",
    "    theta = np.zeros((n,))\n",
    "    error_list = []\n",
    "    \n",
    "    data = np.hstack((X,y.reshape(-1,1)))\n",
    "    for i in range(max_itr):\n",
    "        \n",
    "        #Mini Batch Gradient Descent\n",
    "        np.random.shuffle(data)\n",
    "        m = data.shape[0]\n",
    "        total_batches = m//batch_size\n",
    "        for j in range(total_batches):\n",
    "            batch_data = data[j*batch_size: (j+1)*batch_size,:]\n",
    "            x_batch = batch_data[:,:-1]\n",
    "            y_batch = batch_data[:,-1]\n",
    "            \n",
    "            batch_gradient = gradient(x_batch,y_batch,theta)\n",
    "            theta = theta - learning_rate*batch_gradient\n",
    "            e = error(x_batch,y_batch,theta)\n",
    "            error_list.append(e)\n",
    "        \n",
    "    return theta,error_list"
   ]
  },
  {
   "cell_type": "code",
   "execution_count": 6,
   "metadata": {},
   "outputs": [
    {
     "name": "stdout",
     "output_type": "stream",
     "text": [
      "264.08329543338755\n"
     ]
    },
    {
     "data": {
      "image/png": "[encoded data removed]",
      "text/plain": [
       "<Figure size 432x288 with 1 Axes>"
      ]
     },
     "metadata": {
      "needs_background": "light"
     },
     "output_type": "display_data"
    }
   ],
   "source": [
    "#For Batch Gradient Descent\n",
    "theta,error_list = gradientDescent(X,y)\n",
    "\n",
    "final_error = error_list[-1]\n",
    "print(final_error)\n",
    "plt.figure()\n",
    "plt.plot(np.arange(len(error_list)),error_list)\n",
    "plt.show()"
   ]
  },
  {
   "cell_type": "code",
   "execution_count": 7,
   "metadata": {},
   "outputs": [
    {
     "name": "stdout",
     "output_type": "stream",
     "text": [
      "166.8696790819183\n"
     ]
    },
    {
     "data": {
      "image/png": "[encoded data removed]",
      "text/plain": [
       "<Figure size 432x288 with 1 Axes>"
      ]
     },
     "metadata": {
      "needs_background": "light"
     },
     "output_type": "display_data"
    }
   ],
   "source": [
    "#For Mini Gradient Descent\n",
    "theta,error_list = batch_gradient_descent(X,y)\n",
    "\n",
    "final_error = error_list[-1]\n",
    "print(final_error)\n",
    "plt.figure()\n",
    "plt.plot(np.arange(len(error_list)),error_list)\n",
    "plt.show()"
   ]
  },
  {
   "cell_type": "markdown",
   "metadata": {},
   "source": [
    "### Mini Batch Advantages\n",
    "- Faster Convergence\n",
    "- Noisy Updates help to avoid local minima\n",
    "- More Robust Convergence\n",
    "- Vectorisation(Can alsp be used in batch GD but not in socastic GD)\n",
    "- No need to load entire data in memory at a time"
   ]
  }
 ],
 "metadata": {
  "kernelspec": {
   "display_name": "Python 3",
   "language": "python",
   "name": "python3"
  },
  "language_info": {
   "codemirror_mode": {
    "name": "ipython",
    "version": 3
   },
   "file_extension": ".py",
   "mimetype": "text/x-python",
   "name": "python",
   "nbconvert_exporter": "python",
   "pygments_lexer": "ipython3",
   "version": "3.7.3"
  }
 },
 "nbformat": 4,
 "nbformat_minor": 2
}
