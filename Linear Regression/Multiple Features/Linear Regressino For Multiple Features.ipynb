{
 "cells": [
  {
   "cell_type": "markdown",
   "metadata": {},
   "source": [
    "## Boston Houses Dataset\n",
    "- Exploratory Analysis"
   ]
  },
  {
   "cell_type": "code",
   "execution_count": 1,
   "metadata": {},
   "outputs": [],
   "source": [
    "import pandas as pd\n",
    "import numpy as np\n",
    "import matplotlib.pyplot as plt"
   ]
  },
  {
   "cell_type": "code",
   "execution_count": 2,
   "metadata": {},
   "outputs": [],
   "source": [
    "from sklearn.datasets import load_boston"
   ]
  },
  {
   "cell_type": "code",
   "execution_count": 3,
   "metadata": {},
   "outputs": [
    {
     "name": "stdout",
     "output_type": "stream",
     "text": [
      "(506, 13) (506,)\n"
     ]
    }
   ],
   "source": [
    "boston = load_boston()\n",
    "X = boston.data\n",
    "Y = boston.target\n",
    "print(X.shape,Y.shape)"
   ]
  },
  {
   "cell_type": "code",
   "execution_count": 4,
   "metadata": {},
   "outputs": [
    {
     "name": "stdout",
     "output_type": "stream",
     "text": [
      "['CRIM' 'ZN' 'INDUS' 'CHAS' 'NOX' 'RM' 'AGE' 'DIS' 'RAD' 'TAX' 'PTRATIO'\n",
      " 'B' 'LSTAT']\n"
     ]
    }
   ],
   "source": [
    "print(boston.feature_names)"
   ]
  },
  {
   "cell_type": "code",
   "execution_count": 5,
   "metadata": {},
   "outputs": [
    {
     "name": "stdout",
     "output_type": "stream",
     "text": [
      ".. _boston_dataset:\n",
      "\n",
      "Boston house prices dataset\n",
      "---------------------------\n",
      "\n",
      "**Data Set Characteristics:**  \n",
      "\n",
      "    :Number of Instances: 506 \n",
      "\n",
      "    :Number of Attributes: 13 numeric/categorical predictive. Median Value (attribute 14) is usually the target.\n",
      "\n",
      "    :Attribute Information (in order):\n",
      "        - CRIM     per capita crime rate by town\n",
      "        - ZN       proportion of residential land zoned for lots over 25,000 sq.ft.\n",
      "        - INDUS    proportion of non-retail business acres per town\n",
      "        - CHAS     Charles River dummy variable (= 1 if tract bounds river; 0 otherwise)\n",
      "        - NOX      nitric oxides concentration (parts per 10 million)\n",
      "        - RM       average number of rooms per dwelling\n",
      "        - AGE      proportion of owner-occupied units built prior to 1940\n",
      "        - DIS      weighted distances to five Boston employment centres\n",
      "        - RAD      index of accessibility to radial highways\n",
      "        - TAX      full-value property-tax rate per $10,000\n",
      "        - PTRATIO  pupil-teacher ratio by town\n",
      "        - B        1000(Bk - 0.63)^2 where Bk is the proportion of blacks by town\n",
      "        - LSTAT    % lower status of the population\n",
      "        - MEDV     Median value of owner-occupied homes in $1000's\n",
      "\n",
      "    :Missing Attribute Values: None\n",
      "\n",
      "    :Creator: Harrison, D. and Rubinfeld, D.L.\n",
      "\n",
      "This is a copy of UCI ML housing dataset.\n",
      "https://archive.ics.uci.edu/ml/machine-learning-databases/housing/\n",
      "\n",
      "\n",
      "This dataset was taken from the StatLib library which is maintained at Carnegie Mellon University.\n",
      "\n",
      "The Boston house-price data of Harrison, D. and Rubinfeld, D.L. 'Hedonic\n",
      "prices and the demand for clean air', J. Environ. Economics & Management,\n",
      "vol.5, 81-102, 1978.   Used in Belsley, Kuh & Welsch, 'Regression diagnostics\n",
      "...', Wiley, 1980.   N.B. Various transformations are used in the table on\n",
      "pages 244-261 of the latter.\n",
      "\n",
      "The Boston house-price data has been used in many machine learning papers that address regression\n",
      "problems.   \n",
      "     \n",
      ".. topic:: References\n",
      "\n",
      "   - Belsley, Kuh & Welsch, 'Regression diagnostics: Identifying Influential Data and Sources of Collinearity', Wiley, 1980. 244-261.\n",
      "   - Quinlan,R. (1993). Combining Instance-Based and Model-Based Learning. In Proceedings on the Tenth International Conference of Machine Learning, 236-243, University of Massachusetts, Amherst. Morgan Kaufmann.\n",
      "\n"
     ]
    }
   ],
   "source": [
    "print(boston.DESCR)"
   ]
  },
  {
   "cell_type": "code",
   "execution_count": 6,
   "metadata": {},
   "outputs": [
    {
     "data": {
      "text/html": [
       "<div>\n",
       "<style scoped>\n",
       "    .dataframe tbody tr th:only-of-type {\n",
       "        vertical-align: middle;\n",
       "    }\n",
       "\n",
       "    .dataframe tbody tr th {\n",
       "        vertical-align: top;\n",
       "    }\n",
       "\n",
       "    .dataframe thead th {\n",
       "        text-align: right;\n",
       "    }\n",
       "</style>\n",
       "<table border=\"1\" class=\"dataframe\">\n",
       "  <thead>\n",
       "    <tr style=\"text-align: right;\">\n",
       "      <th></th>\n",
       "      <th>CRIM</th>\n",
       "      <th>ZN</th>\n",
       "      <th>INDUS</th>\n",
       "      <th>CHAS</th>\n",
       "      <th>NOX</th>\n",
       "      <th>RM</th>\n",
       "      <th>AGE</th>\n",
       "      <th>DIS</th>\n",
       "      <th>RAD</th>\n",
       "      <th>TAX</th>\n",
       "      <th>PTRATIO</th>\n",
       "      <th>B</th>\n",
       "      <th>LSTAT</th>\n",
       "    </tr>\n",
       "  </thead>\n",
       "  <tbody>\n",
       "    <tr>\n",
       "      <th>0</th>\n",
       "      <td>0.00632</td>\n",
       "      <td>18.0</td>\n",
       "      <td>2.31</td>\n",
       "      <td>0.0</td>\n",
       "      <td>0.538</td>\n",
       "      <td>6.575</td>\n",
       "      <td>65.2</td>\n",
       "      <td>4.0900</td>\n",
       "      <td>1.0</td>\n",
       "      <td>296.0</td>\n",
       "      <td>15.3</td>\n",
       "      <td>396.90</td>\n",
       "      <td>4.98</td>\n",
       "    </tr>\n",
       "    <tr>\n",
       "      <th>1</th>\n",
       "      <td>0.02731</td>\n",
       "      <td>0.0</td>\n",
       "      <td>7.07</td>\n",
       "      <td>0.0</td>\n",
       "      <td>0.469</td>\n",
       "      <td>6.421</td>\n",
       "      <td>78.9</td>\n",
       "      <td>4.9671</td>\n",
       "      <td>2.0</td>\n",
       "      <td>242.0</td>\n",
       "      <td>17.8</td>\n",
       "      <td>396.90</td>\n",
       "      <td>9.14</td>\n",
       "    </tr>\n",
       "    <tr>\n",
       "      <th>2</th>\n",
       "      <td>0.02729</td>\n",
       "      <td>0.0</td>\n",
       "      <td>7.07</td>\n",
       "      <td>0.0</td>\n",
       "      <td>0.469</td>\n",
       "      <td>7.185</td>\n",
       "      <td>61.1</td>\n",
       "      <td>4.9671</td>\n",
       "      <td>2.0</td>\n",
       "      <td>242.0</td>\n",
       "      <td>17.8</td>\n",
       "      <td>392.83</td>\n",
       "      <td>4.03</td>\n",
       "    </tr>\n",
       "    <tr>\n",
       "      <th>3</th>\n",
       "      <td>0.03237</td>\n",
       "      <td>0.0</td>\n",
       "      <td>2.18</td>\n",
       "      <td>0.0</td>\n",
       "      <td>0.458</td>\n",
       "      <td>6.998</td>\n",
       "      <td>45.8</td>\n",
       "      <td>6.0622</td>\n",
       "      <td>3.0</td>\n",
       "      <td>222.0</td>\n",
       "      <td>18.7</td>\n",
       "      <td>394.63</td>\n",
       "      <td>2.94</td>\n",
       "    </tr>\n",
       "    <tr>\n",
       "      <th>4</th>\n",
       "      <td>0.06905</td>\n",
       "      <td>0.0</td>\n",
       "      <td>2.18</td>\n",
       "      <td>0.0</td>\n",
       "      <td>0.458</td>\n",
       "      <td>7.147</td>\n",
       "      <td>54.2</td>\n",
       "      <td>6.0622</td>\n",
       "      <td>3.0</td>\n",
       "      <td>222.0</td>\n",
       "      <td>18.7</td>\n",
       "      <td>396.90</td>\n",
       "      <td>5.33</td>\n",
       "    </tr>\n",
       "  </tbody>\n",
       "</table>\n",
       "</div>"
      ],
      "text/plain": [
       "      CRIM    ZN  INDUS  CHAS    NOX     RM   AGE     DIS  RAD    TAX  \\\n",
       "0  0.00632  18.0   2.31   0.0  0.538  6.575  65.2  4.0900  1.0  296.0   \n",
       "1  0.02731   0.0   7.07   0.0  0.469  6.421  78.9  4.9671  2.0  242.0   \n",
       "2  0.02729   0.0   7.07   0.0  0.469  7.185  61.1  4.9671  2.0  242.0   \n",
       "3  0.03237   0.0   2.18   0.0  0.458  6.998  45.8  6.0622  3.0  222.0   \n",
       "4  0.06905   0.0   2.18   0.0  0.458  7.147  54.2  6.0622  3.0  222.0   \n",
       "\n",
       "   PTRATIO       B  LSTAT  \n",
       "0     15.3  396.90   4.98  \n",
       "1     17.8  396.90   9.14  \n",
       "2     17.8  392.83   4.03  \n",
       "3     18.7  394.63   2.94  \n",
       "4     18.7  396.90   5.33  "
      ]
     },
     "execution_count": 6,
     "metadata": {},
     "output_type": "execute_result"
    }
   ],
   "source": [
    "df = pd.DataFrame(X)\n",
    "df.columns = boston.feature_names\n",
    "df.head()"
   ]
  },
  {
   "cell_type": "code",
   "execution_count": 7,
   "metadata": {},
   "outputs": [
    {
     "data": {
      "text/html": [
       "<div>\n",
       "<style scoped>\n",
       "    .dataframe tbody tr th:only-of-type {\n",
       "        vertical-align: middle;\n",
       "    }\n",
       "\n",
       "    .dataframe tbody tr th {\n",
       "        vertical-align: top;\n",
       "    }\n",
       "\n",
       "    .dataframe thead th {\n",
       "        text-align: right;\n",
       "    }\n",
       "</style>\n",
       "<table border=\"1\" class=\"dataframe\">\n",
       "  <thead>\n",
       "    <tr style=\"text-align: right;\">\n",
       "      <th></th>\n",
       "      <th>CRIM</th>\n",
       "      <th>ZN</th>\n",
       "      <th>INDUS</th>\n",
       "      <th>CHAS</th>\n",
       "      <th>NOX</th>\n",
       "      <th>RM</th>\n",
       "      <th>AGE</th>\n",
       "      <th>DIS</th>\n",
       "      <th>RAD</th>\n",
       "      <th>TAX</th>\n",
       "      <th>PTRATIO</th>\n",
       "      <th>B</th>\n",
       "      <th>LSTAT</th>\n",
       "    </tr>\n",
       "  </thead>\n",
       "  <tbody>\n",
       "    <tr>\n",
       "      <th>count</th>\n",
       "      <td>506.000000</td>\n",
       "      <td>506.000000</td>\n",
       "      <td>506.000000</td>\n",
       "      <td>506.000000</td>\n",
       "      <td>506.000000</td>\n",
       "      <td>506.000000</td>\n",
       "      <td>506.000000</td>\n",
       "      <td>506.000000</td>\n",
       "      <td>506.000000</td>\n",
       "      <td>506.000000</td>\n",
       "      <td>506.000000</td>\n",
       "      <td>506.000000</td>\n",
       "      <td>506.000000</td>\n",
       "    </tr>\n",
       "    <tr>\n",
       "      <th>mean</th>\n",
       "      <td>3.613524</td>\n",
       "      <td>11.363636</td>\n",
       "      <td>11.136779</td>\n",
       "      <td>0.069170</td>\n",
       "      <td>0.554695</td>\n",
       "      <td>6.284634</td>\n",
       "      <td>68.574901</td>\n",
       "      <td>3.795043</td>\n",
       "      <td>9.549407</td>\n",
       "      <td>408.237154</td>\n",
       "      <td>18.455534</td>\n",
       "      <td>356.674032</td>\n",
       "      <td>12.653063</td>\n",
       "    </tr>\n",
       "    <tr>\n",
       "      <th>std</th>\n",
       "      <td>8.601545</td>\n",
       "      <td>23.322453</td>\n",
       "      <td>6.860353</td>\n",
       "      <td>0.253994</td>\n",
       "      <td>0.115878</td>\n",
       "      <td>0.702617</td>\n",
       "      <td>28.148861</td>\n",
       "      <td>2.105710</td>\n",
       "      <td>8.707259</td>\n",
       "      <td>168.537116</td>\n",
       "      <td>2.164946</td>\n",
       "      <td>91.294864</td>\n",
       "      <td>7.141062</td>\n",
       "    </tr>\n",
       "    <tr>\n",
       "      <th>min</th>\n",
       "      <td>0.006320</td>\n",
       "      <td>0.000000</td>\n",
       "      <td>0.460000</td>\n",
       "      <td>0.000000</td>\n",
       "      <td>0.385000</td>\n",
       "      <td>3.561000</td>\n",
       "      <td>2.900000</td>\n",
       "      <td>1.129600</td>\n",
       "      <td>1.000000</td>\n",
       "      <td>187.000000</td>\n",
       "      <td>12.600000</td>\n",
       "      <td>0.320000</td>\n",
       "      <td>1.730000</td>\n",
       "    </tr>\n",
       "    <tr>\n",
       "      <th>25%</th>\n",
       "      <td>0.082045</td>\n",
       "      <td>0.000000</td>\n",
       "      <td>5.190000</td>\n",
       "      <td>0.000000</td>\n",
       "      <td>0.449000</td>\n",
       "      <td>5.885500</td>\n",
       "      <td>45.025000</td>\n",
       "      <td>2.100175</td>\n",
       "      <td>4.000000</td>\n",
       "      <td>279.000000</td>\n",
       "      <td>17.400000</td>\n",
       "      <td>375.377500</td>\n",
       "      <td>6.950000</td>\n",
       "    </tr>\n",
       "    <tr>\n",
       "      <th>50%</th>\n",
       "      <td>0.256510</td>\n",
       "      <td>0.000000</td>\n",
       "      <td>9.690000</td>\n",
       "      <td>0.000000</td>\n",
       "      <td>0.538000</td>\n",
       "      <td>6.208500</td>\n",
       "      <td>77.500000</td>\n",
       "      <td>3.207450</td>\n",
       "      <td>5.000000</td>\n",
       "      <td>330.000000</td>\n",
       "      <td>19.050000</td>\n",
       "      <td>391.440000</td>\n",
       "      <td>11.360000</td>\n",
       "    </tr>\n",
       "    <tr>\n",
       "      <th>75%</th>\n",
       "      <td>3.677083</td>\n",
       "      <td>12.500000</td>\n",
       "      <td>18.100000</td>\n",
       "      <td>0.000000</td>\n",
       "      <td>0.624000</td>\n",
       "      <td>6.623500</td>\n",
       "      <td>94.075000</td>\n",
       "      <td>5.188425</td>\n",
       "      <td>24.000000</td>\n",
       "      <td>666.000000</td>\n",
       "      <td>20.200000</td>\n",
       "      <td>396.225000</td>\n",
       "      <td>16.955000</td>\n",
       "    </tr>\n",
       "    <tr>\n",
       "      <th>max</th>\n",
       "      <td>88.976200</td>\n",
       "      <td>100.000000</td>\n",
       "      <td>27.740000</td>\n",
       "      <td>1.000000</td>\n",
       "      <td>0.871000</td>\n",
       "      <td>8.780000</td>\n",
       "      <td>100.000000</td>\n",
       "      <td>12.126500</td>\n",
       "      <td>24.000000</td>\n",
       "      <td>711.000000</td>\n",
       "      <td>22.000000</td>\n",
       "      <td>396.900000</td>\n",
       "      <td>37.970000</td>\n",
       "    </tr>\n",
       "  </tbody>\n",
       "</table>\n",
       "</div>"
      ],
      "text/plain": [
       "             CRIM          ZN       INDUS        CHAS         NOX          RM  \\\n",
       "count  506.000000  506.000000  506.000000  506.000000  506.000000  506.000000   \n",
       "mean     3.613524   11.363636   11.136779    0.069170    0.554695    6.284634   \n",
       "std      8.601545   23.322453    6.860353    0.253994    0.115878    0.702617   \n",
       "min      0.006320    0.000000    0.460000    0.000000    0.385000    3.561000   \n",
       "25%      0.082045    0.000000    5.190000    0.000000    0.449000    5.885500   \n",
       "50%      0.256510    0.000000    9.690000    0.000000    0.538000    6.208500   \n",
       "75%      3.677083   12.500000   18.100000    0.000000    0.624000    6.623500   \n",
       "max     88.976200  100.000000   27.740000    1.000000    0.871000    8.780000   \n",
       "\n",
       "              AGE         DIS         RAD         TAX     PTRATIO           B  \\\n",
       "count  506.000000  506.000000  506.000000  506.000000  506.000000  506.000000   \n",
       "mean    68.574901    3.795043    9.549407  408.237154   18.455534  356.674032   \n",
       "std     28.148861    2.105710    8.707259  168.537116    2.164946   91.294864   \n",
       "min      2.900000    1.129600    1.000000  187.000000   12.600000    0.320000   \n",
       "25%     45.025000    2.100175    4.000000  279.000000   17.400000  375.377500   \n",
       "50%     77.500000    3.207450    5.000000  330.000000   19.050000  391.440000   \n",
       "75%     94.075000    5.188425   24.000000  666.000000   20.200000  396.225000   \n",
       "max    100.000000   12.126500   24.000000  711.000000   22.000000  396.900000   \n",
       "\n",
       "            LSTAT  \n",
       "count  506.000000  \n",
       "mean    12.653063  \n",
       "std      7.141062  \n",
       "min      1.730000  \n",
       "25%      6.950000  \n",
       "50%     11.360000  \n",
       "75%     16.955000  \n",
       "max     37.970000  "
      ]
     },
     "execution_count": 7,
     "metadata": {},
     "output_type": "execute_result"
    }
   ],
   "source": [
    "df.describe()"
   ]
  },
  {
   "cell_type": "code",
   "execution_count": 8,
   "metadata": {},
   "outputs": [
    {
     "name": "stdout",
     "output_type": "stream",
     "text": [
      "(13,) (13,)\n"
     ]
    }
   ],
   "source": [
    "#Normalise this dataset\n",
    "# Each feature must have mean 0, unit variance\n",
    "u = np.mean(X,axis=0)\n",
    "std = np.std(X,axis=0)\n",
    "print(u.shape,std.shape)"
   ]
  },
  {
   "cell_type": "code",
   "execution_count": 10,
   "metadata": {},
   "outputs": [],
   "source": [
    "#Normalise the Data\n",
    "X = (X-u)/std"
   ]
  },
  {
   "cell_type": "code",
   "execution_count": 11,
   "metadata": {},
   "outputs": [
    {
     "data": {
      "text/html": [
       "<div>\n",
       "<style scoped>\n",
       "    .dataframe tbody tr th:only-of-type {\n",
       "        vertical-align: middle;\n",
       "    }\n",
       "\n",
       "    .dataframe tbody tr th {\n",
       "        vertical-align: top;\n",
       "    }\n",
       "\n",
       "    .dataframe thead th {\n",
       "        text-align: right;\n",
       "    }\n",
       "</style>\n",
       "<table border=\"1\" class=\"dataframe\">\n",
       "  <thead>\n",
       "    <tr style=\"text-align: right;\">\n",
       "      <th></th>\n",
       "      <th>0</th>\n",
       "      <th>1</th>\n",
       "      <th>2</th>\n",
       "      <th>3</th>\n",
       "      <th>4</th>\n",
       "      <th>5</th>\n",
       "      <th>6</th>\n",
       "      <th>7</th>\n",
       "      <th>8</th>\n",
       "      <th>9</th>\n",
       "      <th>10</th>\n",
       "      <th>11</th>\n",
       "      <th>12</th>\n",
       "    </tr>\n",
       "  </thead>\n",
       "  <tbody>\n",
       "    <tr>\n",
       "      <th>0</th>\n",
       "      <td>-0.419782</td>\n",
       "      <td>0.284830</td>\n",
       "      <td>-1.287909</td>\n",
       "      <td>-0.272599</td>\n",
       "      <td>-0.144217</td>\n",
       "      <td>0.413672</td>\n",
       "      <td>-0.120013</td>\n",
       "      <td>0.140214</td>\n",
       "      <td>-0.982843</td>\n",
       "      <td>-0.666608</td>\n",
       "      <td>-1.459000</td>\n",
       "      <td>0.441052</td>\n",
       "      <td>-1.075562</td>\n",
       "    </tr>\n",
       "    <tr>\n",
       "      <th>1</th>\n",
       "      <td>-0.417339</td>\n",
       "      <td>-0.487722</td>\n",
       "      <td>-0.593381</td>\n",
       "      <td>-0.272599</td>\n",
       "      <td>-0.740262</td>\n",
       "      <td>0.194274</td>\n",
       "      <td>0.367166</td>\n",
       "      <td>0.557160</td>\n",
       "      <td>-0.867883</td>\n",
       "      <td>-0.987329</td>\n",
       "      <td>-0.303094</td>\n",
       "      <td>0.441052</td>\n",
       "      <td>-0.492439</td>\n",
       "    </tr>\n",
       "    <tr>\n",
       "      <th>2</th>\n",
       "      <td>-0.417342</td>\n",
       "      <td>-0.487722</td>\n",
       "      <td>-0.593381</td>\n",
       "      <td>-0.272599</td>\n",
       "      <td>-0.740262</td>\n",
       "      <td>1.282714</td>\n",
       "      <td>-0.265812</td>\n",
       "      <td>0.557160</td>\n",
       "      <td>-0.867883</td>\n",
       "      <td>-0.987329</td>\n",
       "      <td>-0.303094</td>\n",
       "      <td>0.396427</td>\n",
       "      <td>-1.208727</td>\n",
       "    </tr>\n",
       "    <tr>\n",
       "      <th>3</th>\n",
       "      <td>-0.416750</td>\n",
       "      <td>-0.487722</td>\n",
       "      <td>-1.306878</td>\n",
       "      <td>-0.272599</td>\n",
       "      <td>-0.835284</td>\n",
       "      <td>1.016303</td>\n",
       "      <td>-0.809889</td>\n",
       "      <td>1.077737</td>\n",
       "      <td>-0.752922</td>\n",
       "      <td>-1.106115</td>\n",
       "      <td>0.113032</td>\n",
       "      <td>0.416163</td>\n",
       "      <td>-1.361517</td>\n",
       "    </tr>\n",
       "    <tr>\n",
       "      <th>4</th>\n",
       "      <td>-0.412482</td>\n",
       "      <td>-0.487722</td>\n",
       "      <td>-1.306878</td>\n",
       "      <td>-0.272599</td>\n",
       "      <td>-0.835284</td>\n",
       "      <td>1.228577</td>\n",
       "      <td>-0.511180</td>\n",
       "      <td>1.077737</td>\n",
       "      <td>-0.752922</td>\n",
       "      <td>-1.106115</td>\n",
       "      <td>0.113032</td>\n",
       "      <td>0.441052</td>\n",
       "      <td>-1.026501</td>\n",
       "    </tr>\n",
       "  </tbody>\n",
       "</table>\n",
       "</div>"
      ],
      "text/plain": [
       "         0         1         2         3         4         5         6   \\\n",
       "0 -0.419782  0.284830 -1.287909 -0.272599 -0.144217  0.413672 -0.120013   \n",
       "1 -0.417339 -0.487722 -0.593381 -0.272599 -0.740262  0.194274  0.367166   \n",
       "2 -0.417342 -0.487722 -0.593381 -0.272599 -0.740262  1.282714 -0.265812   \n",
       "3 -0.416750 -0.487722 -1.306878 -0.272599 -0.835284  1.016303 -0.809889   \n",
       "4 -0.412482 -0.487722 -1.306878 -0.272599 -0.835284  1.228577 -0.511180   \n",
       "\n",
       "         7         8         9         10        11        12  \n",
       "0  0.140214 -0.982843 -0.666608 -1.459000  0.441052 -1.075562  \n",
       "1  0.557160 -0.867883 -0.987329 -0.303094  0.441052 -0.492439  \n",
       "2  0.557160 -0.867883 -0.987329 -0.303094  0.396427 -1.208727  \n",
       "3  1.077737 -0.752922 -1.106115  0.113032  0.416163 -1.361517  \n",
       "4  1.077737 -0.752922 -1.106115  0.113032  0.441052 -1.026501  "
      ]
     },
     "execution_count": 11,
     "metadata": {},
     "output_type": "execute_result"
    }
   ],
   "source": [
    "pd.DataFrame(X[:5,:]).head()"
   ]
  },
  {
   "cell_type": "code",
   "execution_count": 14,
   "metadata": {},
   "outputs": [
    {
     "data": {
      "image/png": "[encoded data removed]",
      "text/plain": [
       "<Figure size 576x396 with 1 Axes>"
      ]
     },
     "metadata": {},
     "output_type": "display_data"
    }
   ],
   "source": [
    "#Plot Y vs any feature\n",
    "plt.style.use(\"seaborn\")\n",
    "plt.scatter(X[:,5],Y)\n",
    "plt.show()"
   ]
  },
  {
   "cell_type": "markdown",
   "metadata": {},
   "source": [
    "### Section - 2 Linear Regression on Multiple Features\n",
    "- Boston Housing Dataset"
   ]
  },
  {
   "cell_type": "code",
   "execution_count": 15,
   "metadata": {},
   "outputs": [
    {
     "name": "stdout",
     "output_type": "stream",
     "text": [
      "(506, 14)\n"
     ]
    }
   ],
   "source": [
    "ones = np.ones((X.shape[0],1))\n",
    "X = np.hstack((ones,X))\n",
    "print(X.shape)"
   ]
  },
  {
   "cell_type": "code",
   "execution_count": 22,
   "metadata": {},
   "outputs": [],
   "source": [
    "#X - Matrix (m x n)\n",
    "# x - Vector (Single Example)\n",
    "\n",
    "def hypothesis(x,theta):\n",
    "    y_pred = 0.0\n",
    "    n = x.shape[0]\n",
    "    for i in range(n):\n",
    "        y_pred +=(theta[i]*x[i])\n",
    "    return y_pred\n",
    "\n",
    "def error(X,Y,theta):\n",
    "    n = X.shape[0]\n",
    "    total_error=0.0\n",
    "    for i in range(n):\n",
    "        y_pred = hypothesis(X[i],theta)\n",
    "        total_error += (y_pred-Y[i])**2\n",
    "    return total_error/n\n",
    "        \n",
    "def gradient(X,Y,theta):\n",
    "    n = X.shape[0]\n",
    "    grad = np.zeros((X.shape[1],))\n",
    "    for j in range(X.shape[1]):\n",
    "        \n",
    "        for i in range(n):\n",
    "            y_pred = hypothesis(X[i],theta)\n",
    "            grad[j] += (y_pred - Y[i])*X[i][j] \n",
    "            \n",
    "    return grad/n\n",
    "\n",
    "def gradientDescent(X,Y,learning_rate=0.1,max_itr=500):\n",
    "    theta = np.zeros((X.shape[1],))\n",
    "    error_list = []\n",
    "    \n",
    "    for i in range(max_itr):\n",
    "        \n",
    "        grad = gradient(X,Y,theta)\n",
    "        e = error(X,Y,theta)\n",
    "        error_list.append(e)\n",
    "        \n",
    "        for j in range(X.shape[1]):\n",
    "            theta[j] = theta[j] - learning_rate*grad[j]\n",
    "    return theta,error_list"
   ]
  },
  {
   "cell_type": "code",
   "execution_count": 23,
   "metadata": {},
   "outputs": [
    {
     "name": "stdout",
     "output_type": "stream",
     "text": [
      "[ 2.25328063e+01 -9.21661049e-01  1.07018508e+00  1.05792229e-01\n",
      "  6.86754753e-01 -2.05015324e+00  2.68068988e+00  1.39987663e-02\n",
      " -3.10628221e+00  2.57363827e+00 -1.97626899e+00 -2.05723354e+00\n",
      "  8.48669383e-01 -3.74020167e+00]\n"
     ]
    }
   ],
   "source": [
    "theta,error_list = gradientDescent(X,Y)\n",
    "print(theta)"
   ]
  },
  {
   "cell_type": "code",
   "execution_count": 24,
   "metadata": {},
   "outputs": [
    {
     "data": {
      "image/png": "[encoded data removed]",
      "text/plain": [
       "<Figure size 576x396 with 1 Axes>"
      ]
     },
     "metadata": {},
     "output_type": "display_data"
    }
   ],
   "source": [
    "plt.plot(error_list)\n",
    "plt.show()"
   ]
  },
  {
   "cell_type": "markdown",
   "metadata": {},
   "source": [
    "## Predictions "
   ]
  },
  {
   "cell_type": "code",
   "execution_count": 26,
   "metadata": {},
   "outputs": [
    {
     "name": "stdout",
     "output_type": "stream",
     "text": [
      "[30.05498214926882, 25.015677872045533, 30.565777007378497, 28.608480602596714, 27.94586679987069, 25.251084718063012, 22.99105483057305, 19.523817740795195, 11.510883063205933, 18.90694769272278, 18.98985448228953, 21.572553660301182, 20.901731302424523, 19.56416711091307, 19.293024488551655, 19.30904929505788, 20.544765609735023, 16.922913348235106, 16.193093122502844, 18.416391063982843, 12.532273947751317, 17.680731652252806, 15.846363153240251, 13.815388225358422, 15.687388624827939, 13.39508566417372, 15.471783745677847, 14.72083304923066, 19.55993963246577, 20.892082237859317, 11.46593989152143, 18.067743594996912, 8.830157343252846, 14.29175359095659, 13.72107826295698, 23.805446015238882, 22.334187306057245, 23.103113924925616, 22.91333298787422, 31.336379318167044, 34.1978514376658, 28.010180579581238, 25.187722191159466, 24.594777899334773, 22.919675795554245, 22.073490576236242, 20.40295164940804, 18.01006329735488, 9.077919669196927, 17.178513331470224, 21.24807469822231, 23.934853527115575, 27.628267858338294, 24.018165380092743, 15.45956151251162, 31.097722983298716, 24.878077388045675, 33.055271891362985, 21.73238396302607, 21.038426717047976, 17.822287231956242, 18.45877236671923, 23.940280436521533, 22.51504783398541, 23.361366989242466, 30.367919042875194, 25.532466218337976, 21.1460330149539, 17.451027598749217, 20.815672652083585, 25.201346131292517, 21.737814645489998, 24.55321358647931, 24.04182719395097, 25.540265477421606, 23.99559473998012, 22.97032048227368, 23.385210016894522, 21.289497174147062, 22.454663879189788, 28.406683584867544, 26.988544419623256, 26.033701590377433, 25.05303158033868, 24.786818502589092, 27.79230194587928, 22.169845290066363, 25.891397017053144, 30.705204356292995, 30.866971983092895, 27.150066464629436, 27.441780136905138, 28.879574887520185, 29.021124040192532, 26.972946199004376, 28.66205226438983, 24.76038099584497, 35.827370354217585, 35.16531679685633, 32.29432967335881, 24.629841810940462, 25.644970459556777, 19.838562165396674, 20.35645183205948, 21.479113871592073, 18.582325127091234, 17.23169941682264, 20.79653254761625, 22.693957051690575, 19.818179213451554, 20.70103862359834, 26.58320891565599, 20.824271089495173, 20.767956421762197, 25.225345678570985, 20.482374592330814, 23.432281583291978, 23.741230647789486, 20.390130617673552, 20.844912702458306, 21.7895956026422, 22.342879734719364, 20.428969187683805, 16.240277580226845, 20.43117673287684, 22.353086820960236, 14.490098684747739, 15.200531713582262, 18.965826682322287, 14.078021486405266, 20.06100185705222, 19.43518635654003, 20.086363240654883, 15.779458960669848, 13.279194638162677, 17.28977789051374, 15.902770977419374, 19.388684746866257, 13.839789196851115, 16.475346090255734, 13.601662201152683, 4.013281123157185, 14.625660109274857, 12.16065198823047, 8.73574265085071, 12.05461236700868, 15.829356799257267, 8.522846005473447, 9.72860480312766, 14.81528900709247, 20.849143667929695, 18.3041595367529, 20.143596296446894, 17.294452721619503, 22.39715265991533, 20.140813859948018, 13.627956437454591, 33.25773273104535, 29.02066582973365, 25.577637397585285, 32.7212217495158, 36.77751973885626, 40.58191085067932, 41.87795661054957, 24.781012783710384, 25.37407207608885, 37.21063604435602, 23.083490277518433, 26.399292756880435, 26.651142048421644, 22.54836425216876, 24.282922317634984, 22.979890601274295, 29.081091325516553, 26.529198047121948, 30.740063047613404, 25.628916883125783, 29.14564537362933, 31.44954441857052, 32.90714784439024, 34.71293852953842, 27.744292576758294, 33.8678187714305, 30.96646253604654, 22.688445672500094, 24.745158431517133, 35.87791887736351, 33.47900300799687, 32.46474266965038, 34.57200841802684, 30.81719022123481, 30.341385494669176, 32.975280409291315, 32.12485805342467, 31.567218013169743, 40.82869226732407, 36.159069189933454, 32.700893725138656, 34.73637200024718, 30.158590370208685, 30.7108420540048, 29.321511850831307, 37.12144545831564, 41.978550111098116, 43.13759255037035, 22.673468435126004, 23.663795437380006, 17.829952885724595, 23.493221185007453, 16.994789717392514, 22.385658454950512, 17.052725069817622, 22.73780582510915, 25.20441650150335, 11.110090683850657, 24.4917778826195, 26.574109085172058, 28.30532130637453, 24.881623384915184, 29.653008627126603, 33.18357792499903, 23.771617852501965, 32.14121516052657, 29.722578395802934, 38.361857679891365, 39.809177176453524, 37.572424940481966, 32.380786359907496, 35.4534854307905, 31.21966954823544, 24.45927047715691, 33.27149518011369, 38.039117993220366, 37.154805815036276, 31.71405925210948, 25.243759290765038, 30.097569953279024, 32.70288620754121, 28.41310226386068, 28.412344940470827, 27.278759615132397, 23.718606769686474, 24.099683753730762, 27.387889829271725, 16.307207854252706, 13.381621479422682, 20.006121382307317, 19.84451047881229, 21.278662583085797, 24.07748110862188, 24.202759703123647, 25.038001319073473, 24.918873765167838, 29.956688725300317, 23.988615977124404, 21.71377682640814, 37.471942868107, 43.305187841249975, 36.47251131640571, 34.97365164580754, 34.80383157879214, 37.158345862718974, 40.98818237749835, 34.43777302636928, 35.823332203002224, 28.226749487166014, 31.21888608405506, 40.838857700590715, 39.309812365909785, 25.690427940688675, 22.267941547142506, 27.173710456786846, 28.477562919923354, 35.473429455647306, 36.09566634161743, 33.76471592677645, 35.60222913308785, 34.83035821268236, 30.320760883300764, 35.268913409262446, 38.75844871205412, 34.28935978452026, 40.32071708837158, 44.66301174259706, 31.606403475888907, 27.38740611733185, 20.090667621048993, 27.00356009439913, 27.173560756354274, 26.881667691392934, 33.38886282005822, 34.359549681198104, 31.786035611521932, 25.7841877299441, 24.391319645491418, 28.425039510402918, 27.325517311489563, 19.497503047627237, 29.129766481585886, 31.93544380558525, 30.788159711385347, 28.926279750842074, 28.86855867736073, 32.78827001199978, 33.16118304578239, 30.713091247664916, 35.51085693927426, 32.653096562219986, 28.641063362348905, 23.58603736114286, 18.541345697308262, 26.880208964971793, 23.276584001353495, 25.542495099249628, 25.480150057251493, 20.532591347357144, 17.61338102978764, 18.37321457271913, 24.292478323331796, 21.326910838486324, 24.880678653729966, 24.862232148048623, 22.860490539012655, 19.436322560397393, 25.113381042098926, 24.66717168793055, 23.676785262905938, 19.335075908134904, 21.279360694116427, 24.36240721081376, 21.698036121423783, 20.009756889641913, 23.36614149939784, 22.10919284941566, 21.524057885720932, 20.58701368765596, 20.127073947488537, 19.248626862775126, 22.136154042502717, 21.217434902195368, 21.39425571811697, 30.368820144414364, 22.184707731429604, 27.738126944861182, 28.584777542218248, 16.604035553869945, 14.842003093775523, 25.285657103160425, 27.524603278272657, 22.222974936279627, 20.5280053019161, 20.614589861406145, 16.947118303835754, 25.307947012510798, 14.337967780965801, 16.609866664706672, 19.648779129753223, 22.726276794199595, 22.209313453529273, 19.193230877633297, 22.653205946388127, 18.919950420613254, 18.20528521071477, 20.23648904111541, 37.5200248448278, 14.240696152959103, 15.516634571415599, 10.797229178646388, 23.763765204476766, 32.64404430355103, 34.61007986040257, 24.92433314349615, 26.000696823466168, 6.110714799284496, 0.7622733036896978, 25.310272795973443, 17.740173020401603, 20.227250872688508, 15.836094995135923, 16.83046466171238, 14.425135652884917, 18.47330341223272, 13.41243985111667, 13.045994693484287, 3.267379495645063, 8.0523449942933, 6.118887514680861, 5.614728658680868, 6.438108296374972, 14.189015760808092, 17.194073768732366, 17.28600559747229, 9.874506674231498, 20.208405777281186, 17.92988585334622, 20.294067305177833, 19.284090441673193, 16.319901779607036, 6.560682475608862, 10.88583219666601, 11.883451018230465, 17.805774177734598, 18.252416966761903, 12.972719512136248, 7.391953497841942, 8.241142401476452, 8.04500743431462, 19.96336066204003, 13.688306002680168, 19.84739126557256, 15.231981151054077, 16.954912755913085, 1.703957988222868, 11.795407597295918, -4.270350632412438, 9.587086737765004, 13.367935162646045, 6.894976134137707, 6.1846321961024735, 14.612447699721201, 19.591388496339835, 18.110057245600128, 18.502988003425912, 13.163640338075638, 14.609016356544721, 9.91914497610091, 16.335202783335003, 14.088342995219351, 14.250654115328341, 13.03667725577581, 18.146080836354425, 18.687082063434342, 21.51222076594143, 17.02244950754013, 15.954337386651133, 13.362187342163542, 14.520896705690225, 8.820534179025167, 4.8708519981299325, 13.054518063853592, 12.705919886062766, 17.289159505605152, 18.727329614658945, 18.05272023543329, 11.508871264737246, 11.973727835248535, 17.673597556364776, 18.11773585747046, 17.506822263934414, 17.218009790695753, 16.517805197424217, 19.402856769934314, 18.569352534448115, 22.48737570133527, 15.277099862299998, 15.813503141788999, 12.675012086092911, 12.866709637000383, 17.177306749638767, 18.498735231119948, 19.039864447002408, 20.158111907912858, 19.762307141847074, 22.415646805494745, 20.306771648286745, 17.870227449726524, 14.357700674938446, 16.926033269003185, 16.972203800111387, 18.573749998789634, 20.14535683978941, 22.94995240707528, 22.436857641321478, 25.567687542046958, 16.36545819227201, 16.093992240247832, 20.518278590039277, 11.525788715270089, 19.189057308286607, 21.84989642064309, 23.446704186797206, 27.078076326874154, 28.551168378211937, 21.05911687821693, 19.435489392550824, 22.203950701403574, 19.634447974017547, 21.305244583973906, 12.007363440546314, 8.377203465260022, 3.817294190173552, 13.914247267047774, 16.086757990710247, 20.662802349776147, 20.653746617731993, 16.92842890554907, 14.046825913051345, 19.142828169186128, 21.335365362442626, 18.487584179722113, 20.503867167650313, 23.544587393674625, 22.381009860201395, 27.63630210095376, 26.13572570918619, 22.347071883939726]\n"
     ]
    }
   ],
   "source": [
    "y_pred = []\n",
    "for i in range(X.shape[0]):\n",
    "    pred = hypothesis(X[i],theta)\n",
    "    y_pred.append(pred)\n",
    "print(y_pred)"
   ]
  },
  {
   "cell_type": "code",
   "execution_count": 27,
   "metadata": {},
   "outputs": [],
   "source": [
    "def r2_score(y_pred,y):\n",
    "    num = np.sum((y-y_pred)**2)\n",
    "    denom = np.sum((y-y.mean())**2)\n",
    "    score = (1-num/denom)\n",
    "    return score*100"
   ]
  },
  {
   "cell_type": "code",
   "execution_count": 28,
   "metadata": {},
   "outputs": [
    {
     "data": {
      "text/plain": [
       "74.06279773949944"
      ]
     },
     "execution_count": 28,
     "metadata": {},
     "output_type": "execute_result"
    }
   ],
   "source": [
    "r2_score(y_pred,Y)"
   ]
  },
  {
   "cell_type": "markdown",
   "metadata": {},
   "source": [
    "### Section 3. Optimising Code using Vectorisation\n",
    "An Efficient Implementation for Linear Regression using Vectorization\n",
    " - Avoid loops in the implementation except gradient descent main loop\n",
    " - Use numpy functions like np.sum(), np.dot() which are quite fast and already optimised"
   ]
  },
  {
   "cell_type": "code",
   "execution_count": 30,
   "metadata": {},
   "outputs": [],
   "source": [
    "def hypothesis(X,theta):\n",
    "    return np.dot(X,theta)\n",
    "\n",
    "def error(X,Y,theta):\n",
    "    e = 0.0\n",
    "    m = X.shape[0]\n",
    "    y_pred = hypothesis(X,theta)\n",
    "    e = np.sum((y_pred-Y)**2)\n",
    "    return e/m\n",
    "\n",
    "def gradient(X,Y,theta):\n",
    "    m = X.shape[0]\n",
    "    grad = np.zeros((X.shape[1],))\n",
    "\n",
    "    y_pred = hypothesis(X,theta)\n",
    "    grad = np.dot(X.T,(y_pred-Y))\n",
    "    \n",
    "    return grad/m\n",
    "\n",
    "def gradientDescent(X,Y,learning_rate=0.1,max_itr=500):\n",
    "    theta = np.zeros((X.shape[1],))\n",
    "    error_list = []\n",
    "    \n",
    "    for i in range(max_itr):\n",
    "        \n",
    "        e = error(X,Y,theta)\n",
    "        error_list.append(e)\n",
    "        \n",
    "        grad = gradient(X,Y,theta)\n",
    "        \n",
    "        theta = theta - learning_rate*grad\n",
    "    return theta,error_list"
   ]
  },
  {
   "cell_type": "code",
   "execution_count": 31,
   "metadata": {},
   "outputs": [
    {
     "name": "stdout",
     "output_type": "stream",
     "text": [
      "[ 2.25328063e+01 -9.21661049e-01  1.07018508e+00  1.05792229e-01\n",
      "  6.86754753e-01 -2.05015324e+00  2.68068988e+00  1.39987663e-02\n",
      " -3.10628221e+00  2.57363827e+00 -1.97626899e+00 -2.05723354e+00\n",
      "  8.48669383e-01 -3.74020167e+00]\n"
     ]
    }
   ],
   "source": [
    "theta,error_list = gradientDescent(X,Y)\n",
    "print(theta)"
   ]
  },
  {
   "cell_type": "code",
   "execution_count": 32,
   "metadata": {},
   "outputs": [
    {
     "data": {
      "text/plain": [
       "[<matplotlib.lines.Line2D at 0x1e5323f3208>]"
      ]
     },
     "execution_count": 32,
     "metadata": {},
     "output_type": "execute_result"
    },
    {
     "data": {
      "image/png": "[encoded data removed]",
      "text/plain": [
       "<Figure size 576x396 with 1 Axes>"
      ]
     },
     "metadata": {},
     "output_type": "display_data"
    }
   ],
   "source": [
    "plt.plot(error_list)"
   ]
  },
  {
   "cell_type": "code",
   "execution_count": null,
   "metadata": {},
   "outputs": [],
   "source": []
  }
 ],
 "metadata": {
  "kernelspec": {
   "display_name": "Python 3",
   "language": "python",
   "name": "python3"
  },
  "language_info": {
   "codemirror_mode": {
    "name": "ipython",
    "version": 3
   },
   "file_extension": ".py",
   "mimetype": "text/x-python",
   "name": "python",
   "nbconvert_exporter": "python",
   "pygments_lexer": "ipython3",
   "version": "3.7.3"
  }
 },
 "nbformat": 4,
 "nbformat_minor": 2
}
