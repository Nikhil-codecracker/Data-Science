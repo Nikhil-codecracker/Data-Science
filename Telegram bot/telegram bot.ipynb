{
 "cells": [
  {
   "cell_type": "markdown",
   "metadata": {},
   "source": [
    "BotFather, [13.08.20 14:21]\n",
    "Done! Congratulations on your new bot. You will find it at t.me/codecracker_bot. You can now add a description, about section and profile picture for your bot, see /help for a list of commands. By the way, when you've finished creating your cool bot, ping our Bot Support if you want a better username for it. Just make sure the bot is fully operational before you do this.\n",
    "\n",
    "Use this token to access the HTTP API:\n",
    "1367158646:AAGjYFz_SxjVxPOUI9sfcQjC9YvXUhLY6dA\n",
    "Keep your token secure and store it safely, it can be used by anyone to control your bot.\n",
    "\n",
    "For a description of the Bot API, see this page: https://core.telegram.org/bots/api"
   ]
  },
  {
   "cell_type": "code",
   "execution_count": 18,
   "metadata": {},
   "outputs": [
    {
     "name": "stdout",
     "output_type": "stream",
     "text": [
      "Collecting python-telegram-bot\n",
      "  Using cached https://files.pythonhosted.org/packages/a6/2d/c72fc9a28144277f6170f2fcbfd3bd9427943497522b2689846596eb86cf/python_telegram_bot-12.8-py2.py3-none-any.whl\n",
      "Requirement already satisfied: cryptography in c:\\users\\nikhil\\anaconda3\\lib\\site-packages (from python-telegram-bot) (2.7)\n",
      "Requirement already satisfied: tornado>=5.1 in c:\\users\\nikhil\\anaconda3\\lib\\site-packages (from python-telegram-bot) (6.0.3)\n",
      "Requirement already satisfied: certifi in c:\\users\\nikhil\\anaconda3\\lib\\site-packages (from python-telegram-bot) (2019.6.16)\n",
      "Requirement already satisfied: decorator>=4.4.0 in c:\\users\\nikhil\\anaconda3\\lib\\site-packages (from python-telegram-bot) (4.4.0)\n",
      "Requirement already satisfied: six>=1.4.1 in c:\\users\\nikhil\\anaconda3\\lib\\site-packages (from cryptography->python-telegram-bot) (1.12.0)\n",
      "Requirement already satisfied: cffi!=1.11.3,>=1.8 in c:\\users\\nikhil\\anaconda3\\lib\\site-packages (from cryptography->python-telegram-bot) (1.12.3)\n",
      "Requirement already satisfied: asn1crypto>=0.21.0 in c:\\users\\nikhil\\anaconda3\\lib\\site-packages (from cryptography->python-telegram-bot) (0.24.0)\n",
      "Requirement already satisfied: pycparser in c:\\users\\nikhil\\anaconda3\\lib\\site-packages (from cffi!=1.11.3,>=1.8->cryptography->python-telegram-bot) (2.19)\n",
      "Installing collected packages: python-telegram-bot\n",
      "Successfully installed python-telegram-bot-12.8\n"
     ]
    }
   ],
   "source": [
    "!pip install python-telegram-bot"
   ]
  },
  {
   "cell_type": "code",
   "execution_count": 1,
   "metadata": {},
   "outputs": [],
   "source": [
    "import logging # It tells about all the logs while bot is running\n",
    "from telegram.ext import Updater, CommandHandler, MessageHandler\n",
    "\n",
    "logging.basicConfig(format='%(acstime)s - %(name)s - %(levelname)s - %(message)s',level=logging.INFO)\n",
    "\n",
    "logger = logging.getLogger(__name__) "
   ]
  },
  {
   "cell_type": "code",
   "execution_count": 2,
   "metadata": {},
   "outputs": [],
   "source": [
    "TOKEN = \"1367158646:AAGjYFz_SxjVxPOUI9sfcQjC9YvXUhLY6dA\""
   ]
  },
  {
   "cell_type": "code",
   "execution_count": 3,
   "metadata": {},
   "outputs": [],
   "source": [
    "def start(bot,update):\n",
    "    print(update)\n",
    "    author = update.message.from_user.first_name\n",
    "    reply = \"Hi! {}\".format(author)\n",
    "    bot.send_message(chat_id = update.message.chat_id,text = reply)"
   ]
  },
  {
   "cell_type": "code",
   "execution_count": 4,
   "metadata": {},
   "outputs": [],
   "source": [
    "def _help(bot,update):\n",
    "    help_txt = \"Hey! This is the help text.\"\n",
    "    bot.send_message(chat_id=update.message.chat_id,text=help_txt)"
   ]
  },
  {
   "cell_type": "code",
   "execution_count": 5,
   "metadata": {},
   "outputs": [],
   "source": [
    "def echo_text(bot,update):\n",
    "    reply = update.message.text\n",
    "    bot.send_message(chat_id = update.message.chat_id,text = reply)"
   ]
  },
  {
   "cell_type": "code",
   "execution_count": 6,
   "metadata": {},
   "outputs": [],
   "source": [
    "def echo_sticker(bot,update):\n",
    "    bot.send_sticker(chat_id = update.message.chat_id, sticker = update.message.sticker.file_id)\n",
    "    "
   ]
  },
  {
   "cell_type": "code",
   "execution_count": 7,
   "metadata": {},
   "outputs": [],
   "source": [
    "def error(bot,update):\n",
    "    logger.error(\"Update '%s' caused error '%s'\".update,update.error)"
   ]
  },
  {
   "cell_type": "code",
   "execution_count": 8,
   "metadata": {},
   "outputs": [],
   "source": [
    "def main():\n",
    "    updater = Updater(TOKEN) #recieves updates from telegram and sends them to a dispatcher\n",
    "    dp = updater.dispatcher #handles the updates\n",
    "    \n",
    "    dp.add_handler(CommandHandler(\"start\",start)) # if user write /start then start function will be called\n",
    "    dp.add_handler(CommandHandler(\"help\",_help)) # if user writes /help then help function will be called\n",
    "    dp.add_handler(MessageHandler(Filters.text,echo_text))\n",
    "    dp.add_handler(MessageHandler(Filters.sticker,echo_sticker))\n",
    "    dp.add_error_handler(error)\n",
    "    \n",
    "    updater.start_polling()\n",
    "    updater.idle() # wait for ctrl C to stop polling"
   ]
  },
  {
   "cell_type": "code",
   "execution_count": 9,
   "metadata": {},
   "outputs": [
    {
     "name": "stderr",
     "output_type": "stream",
     "text": [
      "C:\\Users\\nikhil\\Anaconda3\\lib\\site-packages\\ipykernel_launcher.py:2: TelegramDeprecationWarning: Old Handler API is deprecated - see https://git.io/fxJuV for details\n",
      "  \n"
     ]
    },
    {
     "ename": "NameError",
     "evalue": "name 'Filters' is not defined",
     "output_type": "error",
     "traceback": [
      "\u001b[1;31m---------------------------------------------------------------------------\u001b[0m",
      "\u001b[1;31mNameError\u001b[0m                                 Traceback (most recent call last)",
      "\u001b[1;32m<ipython-input-9-30bbf2799b3d>\u001b[0m in \u001b[0;36m<module>\u001b[1;34m\u001b[0m\n\u001b[0;32m      1\u001b[0m \u001b[1;32mif\u001b[0m \u001b[0m__name__\u001b[0m \u001b[1;33m==\u001b[0m \u001b[1;34m\"__main__\"\u001b[0m\u001b[1;33m:\u001b[0m \u001b[1;31m#entry point\u001b[0m\u001b[1;33m\u001b[0m\u001b[1;33m\u001b[0m\u001b[0m\n\u001b[1;32m----> 2\u001b[1;33m     \u001b[0mmain\u001b[0m\u001b[1;33m(\u001b[0m\u001b[1;33m)\u001b[0m\u001b[1;33m\u001b[0m\u001b[1;33m\u001b[0m\u001b[0m\n\u001b[0m",
      "\u001b[1;32m<ipython-input-8-636f2d8a4760>\u001b[0m in \u001b[0;36mmain\u001b[1;34m()\u001b[0m\n\u001b[0;32m      5\u001b[0m     \u001b[0mdp\u001b[0m\u001b[1;33m.\u001b[0m\u001b[0madd_handler\u001b[0m\u001b[1;33m(\u001b[0m\u001b[0mCommandHandler\u001b[0m\u001b[1;33m(\u001b[0m\u001b[1;34m\"start\"\u001b[0m\u001b[1;33m,\u001b[0m\u001b[0mstart\u001b[0m\u001b[1;33m)\u001b[0m\u001b[1;33m)\u001b[0m \u001b[1;31m# if user write /start then start function will be called\u001b[0m\u001b[1;33m\u001b[0m\u001b[1;33m\u001b[0m\u001b[0m\n\u001b[0;32m      6\u001b[0m     \u001b[0mdp\u001b[0m\u001b[1;33m.\u001b[0m\u001b[0madd_handler\u001b[0m\u001b[1;33m(\u001b[0m\u001b[0mCommandHandler\u001b[0m\u001b[1;33m(\u001b[0m\u001b[1;34m\"help\"\u001b[0m\u001b[1;33m,\u001b[0m\u001b[0m_help\u001b[0m\u001b[1;33m)\u001b[0m\u001b[1;33m)\u001b[0m \u001b[1;31m# if user writes /help then help function will be called\u001b[0m\u001b[1;33m\u001b[0m\u001b[1;33m\u001b[0m\u001b[0m\n\u001b[1;32m----> 7\u001b[1;33m     \u001b[0mdp\u001b[0m\u001b[1;33m.\u001b[0m\u001b[0madd_handler\u001b[0m\u001b[1;33m(\u001b[0m\u001b[0mMessageHandler\u001b[0m\u001b[1;33m(\u001b[0m\u001b[0mFilters\u001b[0m\u001b[1;33m.\u001b[0m\u001b[0mtext\u001b[0m\u001b[1;33m,\u001b[0m\u001b[0mecho_text\u001b[0m\u001b[1;33m)\u001b[0m\u001b[1;33m)\u001b[0m\u001b[1;33m\u001b[0m\u001b[1;33m\u001b[0m\u001b[0m\n\u001b[0m\u001b[0;32m      8\u001b[0m     \u001b[0mdp\u001b[0m\u001b[1;33m.\u001b[0m\u001b[0madd_handler\u001b[0m\u001b[1;33m(\u001b[0m\u001b[0mMessageHandler\u001b[0m\u001b[1;33m(\u001b[0m\u001b[0mFilters\u001b[0m\u001b[1;33m.\u001b[0m\u001b[0msticker\u001b[0m\u001b[1;33m,\u001b[0m\u001b[0mecho_sticker\u001b[0m\u001b[1;33m)\u001b[0m\u001b[1;33m)\u001b[0m\u001b[1;33m\u001b[0m\u001b[1;33m\u001b[0m\u001b[0m\n\u001b[0;32m      9\u001b[0m     \u001b[0mdp\u001b[0m\u001b[1;33m.\u001b[0m\u001b[0madd_error_handler\u001b[0m\u001b[1;33m(\u001b[0m\u001b[0merror\u001b[0m\u001b[1;33m)\u001b[0m\u001b[1;33m\u001b[0m\u001b[1;33m\u001b[0m\u001b[0m\n",
      "\u001b[1;31mNameError\u001b[0m: name 'Filters' is not defined"
     ]
    }
   ],
   "source": [
    "if __name__ == \"__main__\": #entry point\n",
    "    main()"
   ]
  },
  {
   "cell_type": "code",
   "execution_count": 11,
   "metadata": {},
   "outputs": [
    {
     "ename": "NameError",
     "evalue": "name 'telegram' is not defined",
     "output_type": "error",
     "traceback": [
      "\u001b[1;31m---------------------------------------------------------------------------\u001b[0m",
      "\u001b[1;31mNameError\u001b[0m                                 Traceback (most recent call last)",
      "\u001b[1;32m<ipython-input-11-a827baa80c3b>\u001b[0m in \u001b[0;36m<module>\u001b[1;34m\u001b[0m\n\u001b[1;32m----> 1\u001b[1;33m \u001b[0mprint\u001b[0m\u001b[1;33m(\u001b[0m\u001b[0mtelegram\u001b[0m\u001b[1;33m.\u001b[0m\u001b[0mext__version__\u001b[0m\u001b[1;33m)\u001b[0m\u001b[1;33m\u001b[0m\u001b[1;33m\u001b[0m\u001b[0m\n\u001b[0m",
      "\u001b[1;31mNameError\u001b[0m: name 'telegram' is not defined"
     ]
    }
   ],
   "source": []
  },
  {
   "cell_type": "code",
   "execution_count": null,
   "metadata": {},
   "outputs": [],
   "source": []
  }
 ],
 "metadata": {
  "kernelspec": {
   "display_name": "Python 3",
   "language": "python",
   "name": "python3"
  },
  "language_info": {
   "codemirror_mode": {
    "name": "ipython",
    "version": 3
   },
   "file_extension": ".py",
   "mimetype": "text/x-python",
   "name": "python",
   "nbconvert_exporter": "python",
   "pygments_lexer": "ipython3",
   "version": "3.7.3"
  }
 },
 "nbformat": 4,
 "nbformat_minor": 2
}
